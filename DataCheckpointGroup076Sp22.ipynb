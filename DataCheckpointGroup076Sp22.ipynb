{
 "cells": [
  {
   "cell_type": "markdown",
   "metadata": {},
   "source": [
    "# COGS 108 - Data Checkpoint"
   ]
  },
  {
   "cell_type": "markdown",
   "metadata": {},
   "source": [
    "# Names\n",
    "\n",
    "- Yinghui Sun\n",
    "- Wen Lin\n",
    "- Kevin Yu\n",
    "- Fangcheng Dou\n",
    "- Weihua Pan"
   ]
  },
  {
   "cell_type": "markdown",
   "metadata": {},
   "source": [
    "<a id='research_question'></a>\n",
    "# Research Question"
   ]
  },
  {
   "cell_type": "markdown",
   "metadata": {},
   "source": [
    "How would each factor of a house vary the price of housing in California? How could we predict the price of a house?"
   ]
  },
  {
   "cell_type": "markdown",
   "metadata": {},
   "source": [
    "# Dataset(s)"
   ]
  },
  {
   "cell_type": "markdown",
   "metadata": {},
   "source": [
    "*Fill in your dataset information here*\n",
    "\n",
    "(Copy this information for each dataset)\n",
    "- Dataset Name: California Housing Prices Data\n",
    "- Link to the dataset:https://www.kaggle.com/datasets/fedesoriano/california-housing-prices-data-extra-features\n",
    "- Number of observations:\n",
    "\n",
    "This is the dataset is a modified version of the California Housing Data used in the paper Pace, R. Kelley, and Ronald Barry. Sparse spatial autoregressions. Statistics & Probability Letters 33.3 (1997): 291-297.The data contains information from the 1990 California census. The row include Median House Value, Median Income,Median Age, Total Rooms, Total Bedrooms, Population, Households and so on. But we do not need any Longitude and Latitude, also the null value was not allowed in the dataset, so we have to cleaning this data out. \n"
   ]
  },
  {
   "cell_type": "markdown",
   "metadata": {},
   "source": [
    "# Setup"
   ]
  },
  {
   "cell_type": "code",
   "execution_count": null,
   "metadata": {},
   "outputs": [],
   "source": [
    "## YOUR CODE HERE\n",
    "import pandas as pd\n",
    "import numpy as np\n",
    "import os"
   ]
  },
  {
   "cell_type": "code",
   "execution_count": null,
   "metadata": {},
   "outputs": [],
   "source": [
    "house = pd.read_csv('California_Houses.csv')\n",
    "house.head()"
   ]
  },
  {
   "cell_type": "markdown",
   "metadata": {},
   "source": [
    "# Data Cleaning"
   ]
  },
  {
   "cell_type": "markdown",
   "metadata": {},
   "source": [
    "Describe your data cleaning steps here."
   ]
  },
  {
   "cell_type": "code",
   "execution_count": null,
   "metadata": {},
   "outputs": [],
   "source": [
    "## YOUR CODE HERE\n",
    "## FEEL FREE TO ADD MULTIPLE CELLS PER SECTION\n",
    "## since our data not need Tot_Bedrooms, so we delete this Latitude column in our dataset.\n",
    "house.pop(\"Tot_Bedrooms\")\n",
    "house"
   ]
  },
  {
   "cell_type": "code",
   "execution_count": null,
   "metadata": {},
   "outputs": [],
   "source": [
    "## since our data not need Households, so we delete this Latitude column in our dataset.\n",
    "house.pop(\"Households\")\n",
    "house"
   ]
  },
  {
   "cell_type": "code",
   "execution_count": null,
   "metadata": {},
   "outputs": [],
   "source": [
    "## since we want our data to be no null value, so use this to check if there is any null value.\n",
    "house.isnull().sum()"
   ]
  }
 ],
 "metadata": {
  "interpreter": {
   "hash": "f747f07965a7bf857a7babb169076a296a81b401ec4af0258c0bceb99f67c4c3"
  },
  "kernelspec": {
   "display_name": "Python 3.10.4 64-bit",
   "language": "python",
   "name": "python3"
  },
  "language_info": {
   "codemirror_mode": {
    "name": "ipython",
    "version": 3
   },
   "file_extension": ".py",
   "mimetype": "text/x-python",
   "name": "python",
   "nbconvert_exporter": "python",
   "pygments_lexer": "ipython3",
   "version": "3.10.4"
  }
 },
 "nbformat": 4,
 "nbformat_minor": 2
}
