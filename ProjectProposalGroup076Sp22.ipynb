{
 "cells": [
  {
   "cell_type": "markdown",
   "metadata": {},
   "source": [
    "# COGS 108 - Final Project Proposal"
   ]
  },
  {
   "cell_type": "markdown",
   "metadata": {},
   "source": [
    "# Names\n",
    "\n",
    "- Wen Lin\n",
    "- Kevin Yu\n",
    "- Fangcheng Dou\n",
    "- Weihua Pan\n",
    "- Yinghui Sun"
   ]
  },
  {
   "cell_type": "markdown",
   "metadata": {},
   "source": [
    "# Research Question"
   ]
  },
  {
   "cell_type": "markdown",
   "metadata": {},
   "source": [
    "How would each factor of a house vary the price of housing in California? How could we predict the price of a house?"
   ]
  },
  {
   "cell_type": "markdown",
   "metadata": {},
   "source": [
    "## Background and Prior Work"
   ]
  },
  {
   "cell_type": "markdown",
   "metadata": {},
   "source": [
    "As a student at school, I am about to step out of the society and enter the workplace. In the current era of inflation, various prices are increasing rapidly.",
    "We have to start planning for our future. For some people, there are times in life. There are many major events, one of which is to own your own house. ",
    "But the price of a house depends on many reasons, which is dazzling, and even most people cannot accurately estimate the price of a house.\n",
    "\n",
    "We are devoted to analyzing the price of houses in California and the differences in house prices caused by various factors. ",
    "We are interested in this because many graduates are complaining about the increase in house prices and the false quotations caused by people's unprepared perception of the value of houses.",
    "It is also a factor that causes market confusion. Some people miss their favorite houses because they don’t know the specific value of the house.",
    "Therefore, we think such a data that predicts house prices can help people get more information and get a general understanding when buying a house. ",
    "The Los Angeles Metro Area had a year-over-year price gain of 11.7 percent, with the median price being 725,000 dollars. \n(1)",
    "The typical home value of homes in California is 774,899 dollars. This value is seasonally adjusted and only includes the middle price tier of homes.\n",
    "California home values have gone up 22.0% over the past year.\n(2)",
    "\n",
    "These increases in house prices have caused a lot of stress for us now students, and even we are worried Is it affordable. ",
    "In March 2022, San Diego home prices were up 28.6% compared to last year, selling for a median price of $900K. ",
    "On average, homes in San Diego sell after 8 days on the market compared to 9 days last year. ",


    "There were 1,351 homes sold in March this year, down from 1,484 last year. (3) ",
    "So we should understand the market as early as possible, and use this to help us prepare to locate the house price, ",
    "if we meet the right one, we can seize the opportunity.\n",
    "\n",
    "reference\n",
    "\n",
    "(1) https://www.noradarealestate.com/blog/california-housing-market/\n",
    "\n",
    "(2) https://www.sandiegomagazine.com/neighborhoods/lets-talk-san-diego-housing-prices/article_64ee595a-ac7c-11ec-b3ae-23556f34f1de.html\n",
    "\n",
    "(3) https://www.redfin.com/city/16904/CA/San-Diego/housing-market",
    "\n"
   ]
  },
  {
   "cell_type": "markdown",
   "metadata": {},
   "source": [
    "# Hypothesis\n"
   ]
  },
  {
   "cell_type": "markdown",
   "metadata": {},
   "source": [
    "The information obtained from the data enables the prediction model we made to analyze the price range of the house and predict the future price trend of the house.\n",
    "In our opinion, there are many factors that affect the price of a house. \n",
    "\n",
    "For example, the size of the house, the number of rooms, whether there is a swimming pool, the area of the land, whether it is close to the sea, ",
    "and the geographical location of the house will affect the price trend of the house.\n",
    "At present, we all think that the house close to the sea will be much more expensive than the house not close to the sea. ",
    "If the house has a swimming pool, it will also increase the price of the house a lot.\n"
   ]
  },
  {
   "cell_type": "markdown",
   "metadata": {},
   "source": [
    "# Data"
   ]
  },
  {
   "cell_type": "markdown",
   "metadata": {},
   "source": [
    "dataset name: California Housing Prices Data.\n",
    "\n",
    "data link: https://www.kaggle.com/datasets/fedesoriano/california-housing-prices-data-extra-features\n",
    "\n",
    "This is the dataset is a modified version of the California Housing Data used in the paper Pace, R. Kelley, and Ronald Barry. ",
    " Sparse spatial autoregressions. Statistics & Probability Letters 33.3 (1997): 291-297.The data contains information from the 1990 California census. ",
    "The row include Median House Value, Median Income,Median Age, Total Rooms,  Total Bedrooms, Population, Households and so on.\n "
   ]
  },
  {
   "cell_type": "markdown",
   "metadata": {},
   "source": [
    "# Ethics & Privacy"
   ]
  },
  {
   "cell_type": "markdown",
   "metadata": {},
   "source": [
    "In order to prevent user data privacy from being violated, we only keep the house information for the house, that is, \n",
    "the number of rooms, the area of the land, whether it is close to the sea, the price, and some information that helps us predict the price. \n",
    "We will only keep the information for forecasting demand, ",
    "No information about personal privacy will be retained to ensure that the privacy of users will not be violated and incidents of privacy leakage will not occur.",
    "We will try our best to ensure that it will not violate the ethics and privacy issues of the Internet."
   ]
  },
  {
   "cell_type": "markdown",
   "metadata": {},
   "source": [
    "# Team Expectations "
   ]
  },
  {
   "cell_type": "markdown",
   "metadata": {},
   "source": [
    "* analyze the range of the house price\n",
    "* analyze the factors that affect house price\n",
    "* predic the future of the house trending\n",
    "* ..."
   ]
  },
  {
   "cell_type": "markdown",
   "metadata": {},
   "source": [
    "# Project Timeline Proposal"
   ]
  },
  {
   "cell_type": "markdown",
   "metadata": {},
   "source": [
    "| Meeting Date  | Meeting Time| Completed Before Meeting  | Discuss at Meeting |\n",
    "|---|---|---|---|\n",
    "| 4/22  |  1 PM | search for data; brainstorm topics/questions  | Discuss and decide on final project topic; discuss hypothesis; begin background research | \n",
    "| 4/26  |  10 AM |  Do research on topic | find more dataset | \n",
    "| 5/3  | 10 AM  | group work distribute | discuss the personal work and distribute the tasks   |\n",
    "| 5/10  | 6 PM  | Import & Wrangle Data (Ant Man); EDA (Hulk) | Review/Edit wrangling/EDA; Discuss Analysis Plan   |\n",
    "| 5/27  | 12 PM  | Finalize wrangling/EDA; Begin Analysis (Iron Man; Thor) | Discuss/edit Analysis; Complete project check-in |\n",
    "| 6/4  | 12 PM  | Complete analysis; Draft results/conclusion/discussion (Wasp)| Discuss/edit full project |\n",
    "| 6/6  | 12 PM  | finishe project| complete full project and summit |\n"
   ]
  }
 ],
 "metadata": {
  "kernelspec": {
   "display_name": "Python 3",
   "language": "python",
   "name": "python3"
  },
  "language_info": {
   "codemirror_mode": {
    "name": "ipython",
    "version": 3
   },
   "file_extension": ".py",
   "mimetype": "text/x-python",
   "name": "python",
   "nbconvert_exporter": "python",
   "pygments_lexer": "ipython3",
   "version": "3.7.9"
  }
 },
 "nbformat": 4,
 "nbformat_minor": 2
}
