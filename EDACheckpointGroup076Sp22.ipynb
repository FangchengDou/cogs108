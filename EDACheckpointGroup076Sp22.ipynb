{
 "cells": [
  {
   "cell_type": "markdown",
   "metadata": {},
   "source": [
    "# COGS 108 - EDA Checkpoint"
   ]
  },
  {
   "cell_type": "markdown",
   "metadata": {},
   "source": [
    "# Names\n",
    "\n",
    "- Yinghui Sun\n",
    "- Wen Lin\n",
    "- Kevin Yu\n",
    "- Fangcheng Dou\n",
    "- Weihua Pan"
   ]
  },
  {
   "cell_type": "markdown",
   "metadata": {},
   "source": [
    "<a id='research_question'></a>\n",
    "# Research Question"
   ]
  },
  {
   "cell_type": "markdown",
   "metadata": {},
   "source": [
    "How would each factor of a house vary the price of housing in California? How could we predict the price of a house?"
   ]
  },
  {
   "cell_type": "markdown",
   "metadata": {},
   "source": [
    "# Setup"
   ]
  },
  {
   "cell_type": "code",
   "execution_count": 1,
   "metadata": {},
   "outputs": [],
   "source": [
    "## YOUR CODE HERE\n",
    "import numpy as np\n",
    "import pandas as pd\n",
    "import os\n",
    "import matplotlib.pyplot as plt\n",
    "import seaborn as sns\n",
    "sns.set()\n",
    "sns.set_context('talk')"
   ]
  },
  {
   "cell_type": "code",
   "execution_count": null,
   "metadata": {},
   "outputs": [],
   "source": [
    "house = pd.read_csv('California_Houses.csv')\n",
    "house.head()"
   ]
  },
  {
   "cell_type": "markdown",
   "metadata": {},
   "source": [
    "# Data Cleaning"
   ]
  },
  {
   "cell_type": "markdown",
   "metadata": {},
   "source": [
    "Describe your data cleaning steps here."
   ]
  },
  {
   "cell_type": "code",
   "execution_count": null,
   "metadata": {},
   "outputs": [],
   "source": [
    "# show the compute and analysis of the dataset\n",
    "house.describe()"
   ]
  },
  {
   "cell_type": "code",
   "execution_count": null,
   "metadata": {},
   "outputs": [],
   "source": [
    "## since our data not need Tot_Bedrooms, so we delete this Latitude column in our dataset.\n",
    "house.pop(\"Tot_Bedrooms\")\n",
    "house"
   ]
  },
  {
   "cell_type": "code",
   "execution_count": null,
   "metadata": {},
   "outputs": [],
   "source": [
    "## since our data not need Households, so we delete this Latitude column in our dataset.\n",
    "house.pop(\"Households\")\n",
    "house"
   ]
  },
  {
   "cell_type": "code",
   "execution_count": null,
   "metadata": {},
   "outputs": [],
   "source": [
    "## since we want our data to be no null value, so use this to check if there is any null value.\n",
    "house.isnull().sum()"
   ]
  },
  {
   "cell_type": "markdown",
   "metadata": {},
   "source": [
    "# Data Analysis & Results (EDA)"
   ]
  },
  {
   "cell_type": "markdown",
   "metadata": {},
   "source": [
    "Carry out EDA on your dataset(s); Describe in this section"
   ]
  },
  {
   "cell_type": "code",
   "execution_count": 3,
   "metadata": {},
   "outputs": [],
   "source": [
    "## YOUR CODE HERE\n",
    "## FEEL FREE TO ADD MULTIPLE CELLS PER SECTION\n",
    "## show the dataset\n",
    "house"
   ]
  },
  {
   "cell_type": "markdown",
   "metadata": {},
   "source": [
    "run the code below to see the first few rows of each dataset to have a basic idea of what kind of data  each dataset."
   ]
  },
  {
   "cell_type": "code",
   "execution_count": null,
   "metadata": {},
   "outputs": [],
   "source": [
    "#show the head of dataset\n",
    "house.head()"
   ]
  },
  {
   "cell_type": "code",
   "execution_count": null,
   "metadata": {},
   "outputs": [],
   "source": [
    "#computes and displays summary statistics, it will show us the min max and 25%, 50%, 75%\n",
    "# and mean and count, more clearly for us to see the data.\n",
    "house.describe()"
   ]
  },
  {
   "cell_type": "code",
   "execution_count": null,
   "metadata": {},
   "outputs": [],
   "source": [
    "# plot a histogrom to see the value of select attribute and can see the in which area\n",
    "# have more count, to see the distance which have more house shows.\n",
    "sl = house.copy()\n",
    "sl.pop(\"Median_House_Value\")\n",
    "sl.pop(\"Median_Income\")\n",
    "sl.pop(\"Median_Age\")\n",
    "sl.pop(\"Tot_Rooms\")\n",
    "sl.pop(\"Population\")\n",
    "%matplotlib inline\n",
    "sl.hist(bins = 40, figsize=(25, 15))"
   ]
  },
  {
   "cell_type": "code",
   "execution_count": null,
   "metadata": {},
   "outputs": [],
   "source": [
    "#to see if any null value.\n",
    "row = house[house.isnull().any(axis=1)]\n",
    "row.shape"
   ]
  },
  {
   "cell_type": "code",
   "execution_count": null,
   "metadata": {},
   "outputs": [],
   "source": [
    "row"
   ]
  },
  {
   "cell_type": "code",
   "execution_count": null,
   "metadata": {},
   "outputs": [],
   "source": [
    "# use value counts to count the common median house value and it will show us the most\n",
    "# common median house value and how many of it.\n",
    "house['Median_House_Value'].value_counts()"
   ]
  },
  {
   "cell_type": "code",
   "execution_count": null,
   "metadata": {},
   "outputs": [],
   "source": [
    "# show the median house value in histgram we can more clearly know the value range\n",
    "# and we can see the most count in those value range\n",
    "plt.hist(house['Median_House_Value'])"
   ]
  },
  {
   "cell_type": "code",
   "execution_count": null,
   "metadata": {},
   "outputs": [],
   "source": [
    "# the histgram help us to see the age range\n",
    "plt.hist(house['Median_Age'])"
   ]
  },
  {
   "cell_type": "code",
   "execution_count": null,
   "metadata": {},
   "outputs": [],
   "source": [
    "# round up the median income and filter those count less than 10 to avoid some data bias\n",
    "# and this also show us in between which income area will have more counts.\n",
    "house['income'] = np.ceil(house['Median_Income'])\n",
    "house['income'].where(house['income'] < 10, 10 , inplace = True)\n",
    "plt.hist(house['income'])"
   ]
  },
  {
   "cell_type": "code",
   "execution_count": null,
   "metadata": {},
   "outputs": [],
   "source": [
    "# use hist plot to help us have more clearly view on total rooms and to see which range has \n",
    "# more count in total rooms\n",
    "plt.hist(house['Tot_Rooms'])"
   ]
  },
  {
   "cell_type": "code",
   "execution_count": null,
   "metadata": {},
   "outputs": [],
   "source": [
    "# we can see the population count, help us to figure will population affect house value\n",
    "plt.hist(house['Population'])"
   ]
  },
  {
   "cell_type": "code",
   "execution_count": null,
   "metadata": {},
   "outputs": [],
   "source": [
    "# plot the median house value with longitude and latitude to make a graph would have more\n",
    "# clearly to see the higher median house value located.\n",
    "house.plot(kind=\"scatter\", x=\"Longitude\", y=\"Latitude\", alpha=0.4,\n",
    "    figsize=(10,7),\n",
    "    c=\"Median_House_Value\", cmap=plt.get_cmap(\"jet\"), colorbar=True,\n",
    "    sharex=False)"
   ]
  },
  {
   "cell_type": "code",
   "execution_count": null,
   "metadata": {},
   "outputs": [],
   "source": [
    "# use corr() to compute and attribute and to see the correlated to the median house value\n",
    "# the output will show us each attribute and the value between 1 to -1, which 1 is the most\n",
    "# correlated and 0 is no correlated. And -1 means that negative correlated.\n",
    "c = house.corr()\n",
    "s = c['Median_House_Value'].sort_values()\n",
    "s"
   ]
  },
  {
   "cell_type": "code",
   "execution_count": null,
   "metadata": {},
   "outputs": [],
   "source": [
    "# from the output of corr() we can know that the median income is the most correlated with \n",
    "# median house value, so we plot these two and we can clearly to see the relation\n",
    "# between thest two attribute.\n",
    "house.plot(kind='scatter', y= 'Median_House_Value', x = 'Median_Income')"
   ]
  },
  {
   "cell_type": "code",
   "execution_count": null,
   "metadata": {},
   "outputs": [],
   "source": [
    "#from the output of corr() we can know that distance to coast is the most negative \n",
    "# correlated with median house\n",
    "# value, so we plot it out to see how the distance to coast affect the value.\n",
    "house.plot(kind='scatter', y= 'Median_House_Value', x = 'Distance_to_coast')"
   ]
  },
  {
   "cell_type": "code",
   "execution_count": null,
   "metadata": {},
   "outputs": [],
   "source": [
    "# we pop out the income we was rounded up and add to the house dataset in order to avoid data bias\n",
    "house.pop(\"income\")\n",
    "house\n",
    "s.pop('income')"
   ]
  },
  {
   "cell_type": "code",
   "execution_count": null,
   "metadata": {},
   "outputs": [],
   "source": [
    "# we plot all the correlated attribute into barplot and we can see the graph clearly show us \n",
    "# that there were few attribute did influence the house value, which is median income total\n",
    "# total rooms and median age.\n",
    "s.plot(kind = 'barh')"
   ]
  }
 ],
 "metadata": {
  "kernelspec": {
   "display_name": "Python 3",
   "language": "python",
   "name": "python3"
  },
  "language_info": {
   "codemirror_mode": {
    "name": "ipython",
    "version": 3
   },
   "file_extension": ".py",
   "mimetype": "text/x-python",
   "name": "python",
   "nbconvert_exporter": "python",
   "pygments_lexer": "ipython3",
   "version": "3.7.9"
  }
 },
 "nbformat": 4,
 "nbformat_minor": 2
}
